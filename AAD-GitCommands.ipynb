{
  "metadata": {
    "language_info": {
      "mimetype": "text/x-python",
      "nbconvert_exporter": "python",
      "name": "python",
      "pygments_lexer": "ipython3",
      "version": "3.6.6",
      "file_extension": ".py",
      "codemirror_mode": {
        "version": 3,
        "name": "ipython"
      }
    },
    "kernelspec": {
      "name": "python36",
      "display_name": "Python 3.6",
      "language": "python"
    }
  },
  "nbformat_minor": 2,
  "nbformat": 4,
  "cells": [
    {
      "cell_type": "markdown",
      "source": "<img src=\".//a-figures//gtuinsaat_1.jpg\" width=\"100\" height=\"100\" align=\"middle\" >\n\n---\n\n## \"GTU Department of Civil Engineering - Graduate Program\"\n\n# \"EQE511 FINITE ELEMENT METHODS AND COMPUTER APPLICATIONS\"\n\n### Lecturer: _Dr. Ahmet Anıl Dindar (adindar@gtu.edu.tr)_\n### Period: _2019-Fall_\n\n---",
      "metadata": {}
    },
    {
      "cell_type": "markdown",
      "source": "<img src=\"https://rubygarage.s3.amazonaws.com/uploads/article_image/file/600/git-cheatsheet-6.jpg\" >\nhttps://rubygarage.s3.amazonaws.com/uploads/article_image/file/600/git-cheatsheet-6.jpg",
      "metadata": {}
    },
    {
      "cell_type": "code",
      "source": "! git remote show origin",
      "metadata": {
        "trusted": true
      },
      "execution_count": 28,
      "outputs": [
        {
          "text": "* remote origin\n  Fetch URL: https://github.com/ahmetanildindar/AAD-GTUINSAAT-EQE511.git\n  Push  URL: https://github.com/ahmetanildindar/AAD-GTUINSAAT-EQE511.git\n  HEAD branch: master\n  Remote branch:\n    master tracked\n  Local branch configured for 'git pull':\n    master merges with remote master\n  Local ref configured for 'git push':\n    master pushes to master (up to date)\n",
          "name": "stdout",
          "output_type": "stream"
        }
      ]
    },
    {
      "cell_type": "code",
      "source": "! git status",
      "metadata": {
        "trusted": true
      },
      "execution_count": 15,
      "outputs": [
        {
          "text": "On branch master\nYour branch is up-to-date with 'origin/master'.\nChanges to be committed:\n  (use \"git reset HEAD <file>...\" to unstage)\n\n\t\u001b[32mnew file:   AAD-GitCommands.ipynb\u001b[m\n\t\u001b[32mnew file:   EQE511-Week00-Course Description.ipynb\u001b[m\n\t\u001b[32mrenamed:    EQE511-Week01-Introduction.ipynb -> EQE511-Week01.ipynb\u001b[m\n\t\u001b[32mmodified:   README.md\u001b[m\n\t\u001b[32mnew file:   Untitled.ipynb\u001b[m\n\nChanges not staged for commit:\n  (use \"git add/rm <file>...\" to update what will be committed)\n  (use \"git checkout -- <file>...\" to discard changes in working directory)\n\n\t\u001b[31mmodified:   AAD-GitCommands.ipynb\u001b[m\n\t\u001b[31mdeleted:    EQE511-Week00-Course Description.ipynb\u001b[m\n\t\u001b[31mdeleted:    Untitled.ipynb\u001b[m\n\n",
          "name": "stdout",
          "output_type": "stream"
        }
      ]
    },
    {
      "cell_type": "code",
      "source": "! git add .\n\n! git status",
      "metadata": {
        "trusted": true
      },
      "execution_count": 25,
      "outputs": [
        {
          "text": "On branch master\nYour branch is up-to-date with 'origin/master'.\nChanges to be committed:\n  (use \"git reset HEAD <file>...\" to unstage)\n\n\t\u001b[32mnew file:   AAD-GitCommands.ipynb\u001b[m\n\t\u001b[32mrenamed:    EQE511-Week01-Introduction.ipynb -> EQE511-Week01.ipynb\u001b[m\n\t\u001b[32mmodified:   README.md\u001b[m\n\n",
          "name": "stdout",
          "output_type": "stream"
        }
      ]
    },
    {
      "cell_type": "code",
      "source": "! git config --global user.email \"ahmetanildindar@gmail.com\"\n! git config --global user.name \"ahmetanildindar\"",
      "metadata": {
        "trusted": true
      },
      "execution_count": 17,
      "outputs": []
    },
    {
      "cell_type": "code",
      "source": "! git commit -m \"minor things\"",
      "metadata": {
        "trusted": true
      },
      "execution_count": 19,
      "outputs": [
        {
          "text": "^C\n",
          "name": "stdout",
          "output_type": "stream"
        }
      ]
    },
    {
      "cell_type": "code",
      "source": "! git push -u origin",
      "metadata": {
        "trusted": true
      },
      "execution_count": 27,
      "outputs": [
        {
          "text": "warning: push.default is unset; its implicit value has changed in\nGit 2.0 from 'matching' to 'simple'. To squelch this message\nand maintain the traditional behavior, use:\n\n  git config --global push.default matching\n\nTo squelch this message and adopt the new behavior now, use:\n\n  git config --global push.default simple\n\nWhen push.default is set to 'matching', git will push local branches\nto the remote branches that already exist with the same name.\n\nSince Git 2.0, Git defaults to the more conservative 'simple'\nbehavior, which only pushes the current branch to the corresponding\nremote branch that 'git pull' uses to update the current branch.\n\nSee 'git help config' and search for 'push.default' for further information.\n(the 'simple' mode was introduced in Git 1.7.11. Use the similar mode\n'current' instead of 'simple' if you sometimes use older versions of Git)\n\nUsername for 'https://github.com': ^C\n",
          "name": "stdout",
          "output_type": "stream"
        }
      ]
    },
    {
      "cell_type": "code",
      "source": "",
      "metadata": {},
      "execution_count": null,
      "outputs": []
    }
  ]
}
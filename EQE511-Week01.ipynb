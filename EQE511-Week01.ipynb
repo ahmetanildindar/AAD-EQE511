{
  "metadata": {
    "kernelspec": {
      "display_name": "Python 3.6",
      "name": "python36",
      "language": "python"
    },
    "language_info": {
      "mimetype": "text/x-python",
      "nbconvert_exporter": "python",
      "name": "python",
      "pygments_lexer": "ipython3",
      "version": "3.6.6",
      "file_extension": ".py",
      "codemirror_mode": {
        "version": 3,
        "name": "ipython"
      }
    }
  },
  "nbformat_minor": 2,
  "nbformat": 4,
  "cells": [
    {
      "cell_type": "markdown",
      "source": "<img src=\"./a-figures/gtuinsaat_1.jpg\" width=\"100\" height=\"100\" align=\"middle\" >\n\n### \"GTU Department of Civil Engineering - Graduate Program\"\n## \"EQE511 FINITE ELEMENT METHODS AND COMPUTER APPLICATIONS\"\n#### Lecturer: _Dr. Ahmet Anıl Dindar (adindar@gtu.edu.tr)_\n#### Period: _2019-Fall_\n\n---\n\n#### *Week 1-Introduction to finite elements method , Review of matrix theory and mathematical concepts*\n\n---",
      "metadata": {}
    },
    {
      "cell_type": "code",
      "source": "adem = 10",
      "metadata": {},
      "execution_count": null,
      "outputs": []
    }
  ]
}
{
  "metadata": {
    "kernelspec": {
      "display_name": "Python 3.6",
      "name": "python36",
      "language": "python"
    },
    "language_info": {
      "mimetype": "text/x-python",
      "nbconvert_exporter": "python",
      "name": "python",
      "pygments_lexer": "ipython3",
      "version": "3.6.6",
      "file_extension": ".py",
      "codemirror_mode": {
        "version": 3,
        "name": "ipython"
      }
    }
  },
  "nbformat_minor": 2,
  "nbformat": 4,
  "cells": [
    {
      "cell_type": "markdown",
      "source": "<img src=\".//a-figures//gtuinsaat_1.jpg\" width=\"100\" height=\"100\" align=\"middle\" >\n\n---\n\n## \"GTU Department of Civil Engineering - Graduate Program\"\n\n# \"EQE511 FINITE ELEMENT METHODS AND COMPUTER APPLICATIONS\"\n\n### Lecturer: _Dr. Ahmet Anıl Dindar (adindar@gtu.edu.tr)_\n### Period: _2019-Fall_\n\n---",
      "metadata": {}
    },
    {
      "cell_type": "code",
      "source": "",
      "metadata": {},
      "execution_count": null,
      "outputs": []
    }
  ]
}
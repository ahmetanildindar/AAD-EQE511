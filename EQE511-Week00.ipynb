{
  "metadata": {
    "kernelspec": {
      "display_name": "Python 3.6",
      "name": "python36",
      "language": "python"
    },
    "language_info": {
      "mimetype": "text/x-python",
      "nbconvert_exporter": "python",
      "name": "python",
      "pygments_lexer": "ipython3",
      "version": "3.6.6",
      "file_extension": ".py",
      "codemirror_mode": {
        "version": 3,
        "name": "ipython"
      }
    }
  },
  "nbformat_minor": 2,
  "nbformat": 4,
  "cells": [
    {
      "cell_type": "markdown",
      "source": "<img src=\"./a-figures/gtuinsaat_1.jpg\" width=\"100\" height=\"100\" align=\"middle\" >\n\n### \"GTU Department of Civil Engineering - Graduate Program\"\n## \"EQE511 FINITE ELEMENT METHODS AND COMPUTER APPLICATIONS\"\n#### Lecturer: _Dr. Ahmet Anıl Dindar (adindar@gtu.edu.tr)_\n#### Period: _2019-Fall_\n\n---\n\n#### Table of the Content of the Course\n\n\n|Week|Date|Topic|Tasks|\n|:---: |:---:|:---|:---:|\n| 1 | 11.2 | Introduction to finite elements method , Review of matrix theory and mathematical concepts|-|\n| 2 | 18.2 | Global and local coordinate systems, Stiffness and local - global transformation matrix for truss element|-|\n| 3 | 25.2 | Constructing and solving 2D truss system using Python | HW1| \n| 4 |  4.3 | Stiffness and local - global transformation matrix for 2D beam and frame elements | - |\n| 5 | 11.3 | Constructing and solving 2D frame system using Python | HW2|\n| 6 | 18.3 | Stiffness and local - global transformation matrix for 3D frame elements| -|\n| 7 | 25.3 | Introduction to two dimensional elements (Plane stress, Plan strain), Shape functions numerical integration| HW3|\n| 8 |  1.4 | Mid-term exam | Term Project Starts|\n| 9 |  8.4 | Constructing and solving plane stress and plane strain systems using Python | - |\n|10 | 15.4 | Formulation for plate, membrane and shell elements |  HW4 |\n|11 | 22.4 | Formulation for three dimensional solid elements |- |\n|12 | 29.4 | Dynamic time history and dynamic modal analyses of structure| HW5| \n|13 |  6.5 | Case Study 1 (Hackathon)| -|\n|14 | 13.5 | Case Study 2 (Hackathon)| -|\n\n---\n \n ",
      "metadata": {}
    },
    {
      "cell_type": "code",
      "source": "",
      "metadata": {},
      "execution_count": null,
      "outputs": []
    }
  ]
}